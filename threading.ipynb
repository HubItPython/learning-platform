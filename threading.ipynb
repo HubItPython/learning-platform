{
 "cells": [
  {
   "cell_type": "code",
   "execution_count": 13,
   "id": "f2e3b0b1",
   "metadata": {},
   "outputs": [
    {
     "name": "stdout",
     "output_type": "stream",
     "text": [
      "Timer start\n",
      "Timer start\n",
      "Timer start\n",
      "Time taken1\n",
      "Time taken3\n",
      "Time taken5\n",
      "5.020984900009353\n"
     ]
    }
   ],
   "source": [
    "# import threading\n",
    "# import time\n",
    "# def fun(s):\n",
    "#     print(f\"Timer start\")\n",
    "#     time.sleep(s)\n",
    "#     print(f\"Time taken{s}\")\n",
    "# time1= time.perf_counter()\n",
    "# fun(5)\n",
    "# time2=time.perf_counter()\n",
    "# print(f\"time to execute{time2 - time1}\")\n",
    "# time1= time.perf_counter()\n",
    "# fun(3)\n",
    "# time2=time.perf_counter()\n",
    "# print(f\"time to execute{time2 - time1}\")\n",
    "# time1= time.perf_counter()\n",
    "# fun(1)\n",
    "# time2=time.perf_counter()\n",
    "# print(f\"time to execute{time2 - time1}\")\n",
    "\n",
    "# time4 = time.perf_counter()\n",
    "# thread1 = threading.Thread(target=fun(5))\n",
    "# thread2 = threading.Thread(target = fun(3))\n",
    "# thread3 = threading.Thread(target = fun(1))\n",
    "# thread1.start()\n",
    "# thread2.start()\n",
    "# thread3.start()\n",
    "\n",
    "# thread1.join()\n",
    "# thread2.join()\n",
    "# thread3.join()\n",
    "# time5 = time.perf_counter()\n",
    "# print(time5-time4)\n",
    "\n",
    "import threading\n",
    "import time\n",
    "def fun(s):\n",
    "    print(f\"Timer start\")\n",
    "    time.sleep(s)\n",
    "    print(f\"Time taken{s}\")\n",
    "# time1= time.perf_counter()\n",
    "# fun(5)\n",
    "# time2=time.perf_counter()\n",
    "# print(f\"time to execute{time2 - time1}\")\n",
    "# time1= time.perf_counter()\n",
    "# fun(3)\n",
    "# time2=time.perf_counter()\n",
    "# print(f\"time to execute{time2 - time1}\")\n",
    "# time1= time.perf_counter()\n",
    "# fun(1)\n",
    "# time2=time.perf_counter()\n",
    "# print(f\"time to execute{time2 - time1}\")\n",
    "\n",
    "time4 = time.perf_counter()\n",
    "thread1 = threading.Thread(target=fun, args=[5])\n",
    "thread2 = threading.Thread(target = fun, args=[3])\n",
    "thread3 = threading.Thread(target = fun,args=[1])\n",
    "thread1.start()\n",
    "thread2.start()\n",
    "thread3.start()\n",
    "\n",
    "thread1.join()\n",
    "thread2.join()\n",
    "thread3.join()\n",
    "time5 = time.perf_counter()\n",
    "print(time5-time4)"
   ]
  },
  {
   "cell_type": "code",
   "execution_count": null,
   "id": "68993738",
   "metadata": {},
   "outputs": [],
   "source": []
  },
  {
   "cell_type": "code",
   "execution_count": null,
   "id": "5cca25cf",
   "metadata": {},
   "outputs": [],
   "source": []
  },
  {
   "cell_type": "code",
   "execution_count": null,
   "id": "4de0206f",
   "metadata": {},
   "outputs": [],
   "source": []
  },
  {
   "cell_type": "code",
   "execution_count": null,
   "id": "4dabc056",
   "metadata": {},
   "outputs": [],
   "source": []
  },
  {
   "cell_type": "code",
   "execution_count": null,
   "id": "96c36403",
   "metadata": {},
   "outputs": [],
   "source": []
  },
  {
   "cell_type": "code",
   "execution_count": null,
   "id": "b02406a0",
   "metadata": {},
   "outputs": [],
   "source": []
  },
  {
   "cell_type": "code",
   "execution_count": null,
   "id": "ab72861b",
   "metadata": {},
   "outputs": [],
   "source": []
  },
  {
   "cell_type": "code",
   "execution_count": null,
   "id": "104200da",
   "metadata": {},
   "outputs": [],
   "source": []
  },
  {
   "cell_type": "code",
   "execution_count": null,
   "id": "554c69a6",
   "metadata": {},
   "outputs": [],
   "source": []
  },
  {
   "cell_type": "code",
   "execution_count": null,
   "id": "a912a915",
   "metadata": {},
   "outputs": [],
   "source": []
  },
  {
   "cell_type": "code",
   "execution_count": null,
   "id": "f5ddbb95",
   "metadata": {},
   "outputs": [],
   "source": []
  },
  {
   "cell_type": "code",
   "execution_count": null,
   "id": "24eacfaa",
   "metadata": {},
   "outputs": [],
   "source": []
  },
  {
   "cell_type": "code",
   "execution_count": null,
   "id": "f5a3c005",
   "metadata": {},
   "outputs": [],
   "source": []
  }
 ],
 "metadata": {
  "kernelspec": {
   "display_name": "Python 3 (ipykernel)",
   "language": "python",
   "name": "python3"
  },
  "language_info": {
   "codemirror_mode": {
    "name": "ipython",
    "version": 3
   },
   "file_extension": ".py",
   "mimetype": "text/x-python",
   "name": "python",
   "nbconvert_exporter": "python",
   "pygments_lexer": "ipython3",
   "version": "3.11.4"
  }
 },
 "nbformat": 4,
 "nbformat_minor": 5
}
