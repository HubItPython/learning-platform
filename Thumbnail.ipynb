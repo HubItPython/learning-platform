{
 "cells": [
  {
   "cell_type": "code",
   "execution_count": 2,
   "id": "c4828474",
   "metadata": {},
   "outputs": [],
   "source": [
    "import tkinter as tk\n",
    "from tkinter import Entry, Button\n",
    "from PIL import Image, ImageTk\n",
    "import requests\n",
    "from io import BytesIO\n",
    "\n",
    "# Function to load and display the YouTube video's thumbnail\n",
    "def display_thumbnail():\n",
    "    video_url = url_entry.get()\n",
    "\n",
    "\n",
    "    try:\n",
    "        # Construct the thumbnail URL\n",
    "        thumbnail_url = f\"https://img.youtube.com/vi/{video_url.split('=')[-1]}/maxresdefault.jpg\"\n",
    "        \n",
    "        # Fetch the image from the URL\n",
    "        response = requests.get(thumbnail_url)\n",
    "        img_data = BytesIO(response.content)\n",
    "        \n",
    "        # Open the image using Pillow (PIL)\n",
    "        thumbnail = Image.open(img_data)\n",
    "        \n",
    "        # Resize the image to fit the display\n",
    "        thumbnail = thumbnail.resize((200, 200))\n",
    "\n",
    "        # Convert to PhotoImage format for Tkinter\n",
    "        thumbnail_image = ImageTk.PhotoImage(thumbnail)\n",
    "\n",
    "        thumbnail_label.config(image=thumbnail_image)\n",
    "        thumbnail_label.image = thumbnail_image\n",
    "    except Exception as e:\n",
    "        print(f\"An error occurred: {str(e)}\")\n",
    "\n",
    "# Create the main application window\n",
    "root = tk.Tk()\n",
    "root.title(\"YouTube Thumbnail Viewer\")\n",
    "\n",
    "# Create an Entry for the user to enter the YouTube URL\n",
    "url_label = tk.Label(root, text=\"Enter YouTube URL:\")\n",
    "url_label.pack()\n",
    "url_entry = Entry(root, width=40)\n",
    "url_entry.pack()\n",
    "\n",
    "# Create a button to display the thumbnail\n",
    "display_button = Button(root, text=\"Display Thumbnail\", command=display_thumbnail)\n",
    "display_button.pack()\n",
    "\n",
    "# Create a label to display the thumbnail image\n",
    "thumbnail_label = tk.Label(root)\n",
    "thumbnail_label.pack()\n",
    "\n",
    "root.mainloop()\n"
   ]
  }
 ],
 "metadata": {
  "kernelspec": {
   "display_name": "Python 3 (ipykernel)",
   "language": "python",
   "name": "python3"
  },
  "language_info": {
   "codemirror_mode": {
    "name": "ipython",
    "version": 3
   },
   "file_extension": ".py",
   "mimetype": "text/x-python",
   "name": "python",
   "nbconvert_exporter": "python",
   "pygments_lexer": "ipython3",
   "version": "3.11.5"
  }
 },
 "nbformat": 4,
 "nbformat_minor": 5
}
