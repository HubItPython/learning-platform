{
 "cells": [
  {
   "cell_type": "code",
   "execution_count": 1,
   "id": "ed595b2b",
   "metadata": {},
   "outputs": [
    {
     "ename": "ModuleNotFoundError",
     "evalue": "No module named 'MySQL'",
     "output_type": "error",
     "traceback": [
      "\u001b[1;31m---------------------------------------------------------------------------\u001b[0m",
      "\u001b[1;31mModuleNotFoundError\u001b[0m                       Traceback (most recent call last)",
      "Cell \u001b[1;32mIn[1], line 2\u001b[0m\n\u001b[0;32m      1\u001b[0m \u001b[38;5;28;01mimport\u001b[39;00m \u001b[38;5;21;01mmysql\u001b[39;00m\u001b[38;5;21;01m.\u001b[39;00m\u001b[38;5;21;01mconnector\u001b[39;00m \n\u001b[1;32m----> 2\u001b[0m \u001b[38;5;28;01mimport\u001b[39;00m \u001b[38;5;21;01mMySQL\u001b[39;00m\n\u001b[0;32m      4\u001b[0m \u001b[38;5;66;03m#Create the connection object   \u001b[39;00m\n\u001b[0;32m      5\u001b[0m con \u001b[38;5;241m=\u001b[39m db\u001b[38;5;241m.\u001b[39mconnect(host \u001b[38;5;241m=\u001b[39m \u001b[38;5;124m\"\u001b[39m\u001b[38;5;124mlocalhost\u001b[39m\u001b[38;5;124m\"\u001b[39m, user \u001b[38;5;241m=\u001b[39m \u001b[38;5;124m\"\u001b[39m\u001b[38;5;124mroot\u001b[39m\u001b[38;5;124m\"\u001b[39m,passwd \u001b[38;5;241m=\u001b[39m \u001b[38;5;124m\"\u001b[39m\u001b[38;5;124madmin\u001b[39m\u001b[38;5;124m\"\u001b[39m,)  \n",
      "\u001b[1;31mModuleNotFoundError\u001b[0m: No module named 'MySQL'"
     ]
    }
   ],
   "source": [
    "import mysql.connector \n",
    "import MySQL\n",
    "  \n",
    "#Create the connection object   \n",
    "con = db.connect(host = \"localhost\", user = \"root\",passwd = \"admin\",)  \n",
    "cursor = con.cursor()\n",
    "cursor.execute(\"select * from employee\")\n",
    "result = cursor.fetchall()\n",
    "for row in result:\n",
    "    print(row)\n",
    "#printing the connection object   \n",
    "print(con)"
   ]
  },
  {
   "cell_type": "code",
   "execution_count": 7,
   "id": "02bb8e26",
   "metadata": {},
   "outputs": [
    {
     "name": "stdout",
     "output_type": "stream",
     "text": [
      "(1, 'Sunil', 'Butwal', '989898989', 'sunil@gmail.com')\n",
      "\n",
      "\n",
      "(2, 'sahil', 'Butwal', '933444534', 'anil@gmail.com')\n",
      "\n",
      "\n"
     ]
    }
   ],
   "source": [
    "# import required modules\n",
    "import mysql.connector\n",
    "# pymysql.install_as_MySQLdb()\n",
    "import MySQLdb\n",
    "  \n",
    "# connect python with mysql with your hostname, \n",
    "# username, password and database\n",
    "db= MySQLdb.connect(\"localhost\", \"root\", \"admin\", \"gangeshwar\")\n",
    "  \n",
    "# get cursor object\n",
    "cursor= db.cursor()\n",
    "  \n",
    "# execute your query\n",
    "# cursor.execute(\"SELECT * FROM bk\")\n",
    "cursor.execute(\"SELECT * FROM bk where Address='Butwal'\")\n",
    "  \n",
    "# fetch all the matching rows \n",
    "result = cursor.fetchall()\n",
    "  \n",
    "# loop through the rows\n",
    "for row in result:\n",
    "    print(row)\n",
    "    print(\"\\n\")"
   ]
  },
  {
   "cell_type": "code",
   "execution_count": 10,
   "id": "c52ad5f4",
   "metadata": {},
   "outputs": [
    {
     "name": "stdout",
     "output_type": "stream",
     "text": [
      "Enter AddressButwal\n",
      "Enter Id1\n",
      "(1, 'Ashish', 'Butwal', 'ashish@gmail.com')\n",
      "\n",
      "\n"
     ]
    }
   ],
   "source": [
    "# import required modules\n",
    "import mysql.connector\n",
    "# pymysql.install_as_MySQLdb()\n",
    "import MySQLdb\n",
    "  \n",
    "# connect python with mysql with your hostname, \n",
    "# username, password and database\n",
    "db= MySQLdb.connect(\"localhost\", \"root\", \"admin\", \"gangeshwar\")\n",
    "  \n",
    "# get cursor object\n",
    "cursor= db.cursor()\n",
    "address = input(\"Enter Address\")\n",
    "id = input(\"Enter Id\")\n",
    "# execute your query\n",
    "# cursor.execute(\"SELECT * FROM bk\")\n",
    "cursor.execute(f\"SELECT * FROM shyam where Address='{address}' and Id={id}\")\n",
    "  \n",
    "# fetch all the matching rows \n",
    "result = cursor.fetchall()\n",
    "  \n",
    "# loop through the rows\n",
    "for row in result:\n",
    "    print(row)\n",
    "    print(\"\\n\")"
   ]
  },
  {
   "cell_type": "code",
   "execution_count": null,
   "id": "b017ae9b",
   "metadata": {},
   "outputs": [],
   "source": []
  },
  {
   "cell_type": "code",
   "execution_count": null,
   "id": "ed6dbde9",
   "metadata": {},
   "outputs": [],
   "source": []
  },
  {
   "cell_type": "code",
   "execution_count": null,
   "id": "b669b18e",
   "metadata": {},
   "outputs": [],
   "source": []
  },
  {
   "cell_type": "code",
   "execution_count": null,
   "id": "06a17354",
   "metadata": {},
   "outputs": [],
   "source": []
  },
  {
   "cell_type": "code",
   "execution_count": null,
   "id": "1372b9e1",
   "metadata": {},
   "outputs": [],
   "source": []
  },
  {
   "cell_type": "code",
   "execution_count": null,
   "id": "840f6642",
   "metadata": {},
   "outputs": [],
   "source": []
  },
  {
   "cell_type": "code",
   "execution_count": null,
   "id": "e5ccade3",
   "metadata": {},
   "outputs": [],
   "source": []
  },
  {
   "cell_type": "code",
   "execution_count": null,
   "id": "563b7f66",
   "metadata": {},
   "outputs": [],
   "source": []
  },
  {
   "cell_type": "code",
   "execution_count": null,
   "id": "4fb81b5a",
   "metadata": {},
   "outputs": [],
   "source": []
  },
  {
   "cell_type": "code",
   "execution_count": null,
   "id": "7261c624",
   "metadata": {},
   "outputs": [],
   "source": []
  },
  {
   "cell_type": "code",
   "execution_count": null,
   "id": "55400f68",
   "metadata": {},
   "outputs": [],
   "source": []
  },
  {
   "cell_type": "code",
   "execution_count": null,
   "id": "c8ae6e66",
   "metadata": {},
   "outputs": [],
   "source": []
  },
  {
   "cell_type": "code",
   "execution_count": null,
   "id": "bb957d19",
   "metadata": {},
   "outputs": [],
   "source": []
  },
  {
   "cell_type": "code",
   "execution_count": null,
   "id": "e35fdace",
   "metadata": {},
   "outputs": [],
   "source": []
  },
  {
   "cell_type": "code",
   "execution_count": 2,
   "id": "ac267706",
   "metadata": {},
   "outputs": [
    {
     "ename": "NameError",
     "evalue": "name 'pymysql' is not defined",
     "output_type": "error",
     "traceback": [
      "\u001b[1;31m---------------------------------------------------------------------------\u001b[0m",
      "\u001b[1;31mNameError\u001b[0m                                 Traceback (most recent call last)",
      "Cell \u001b[1;32mIn[2], line 1\u001b[0m\n\u001b[1;32m----> 1\u001b[0m pymysql\u001b[38;5;241m.\u001b[39minstall_as_MySQLdb()\n",
      "\u001b[1;31mNameError\u001b[0m: name 'pymysql' is not defined"
     ]
    }
   ],
   "source": []
  },
  {
   "cell_type": "code",
   "execution_count": null,
   "id": "97ffb532",
   "metadata": {},
   "outputs": [],
   "source": []
  },
  {
   "cell_type": "code",
   "execution_count": null,
   "id": "8a2585e3",
   "metadata": {},
   "outputs": [],
   "source": []
  },
  {
   "cell_type": "code",
   "execution_count": null,
   "id": "eb5e44ee",
   "metadata": {},
   "outputs": [],
   "source": []
  },
  {
   "cell_type": "code",
   "execution_count": null,
   "id": "d8e0f04a",
   "metadata": {},
   "outputs": [],
   "source": []
  },
  {
   "cell_type": "code",
   "execution_count": null,
   "id": "262736cf",
   "metadata": {},
   "outputs": [],
   "source": []
  },
  {
   "cell_type": "code",
   "execution_count": null,
   "id": "27263476",
   "metadata": {},
   "outputs": [],
   "source": []
  },
  {
   "cell_type": "code",
   "execution_count": null,
   "id": "2af6d412",
   "metadata": {},
   "outputs": [],
   "source": []
  },
  {
   "cell_type": "code",
   "execution_count": null,
   "id": "dc540548",
   "metadata": {},
   "outputs": [],
   "source": []
  },
  {
   "cell_type": "code",
   "execution_count": null,
   "id": "606f7767",
   "metadata": {},
   "outputs": [],
   "source": []
  }
 ],
 "metadata": {
  "kernelspec": {
   "display_name": "Python 3 (ipykernel)",
   "language": "python",
   "name": "python3"
  },
  "language_info": {
   "codemirror_mode": {
    "name": "ipython",
    "version": 3
   },
   "file_extension": ".py",
   "mimetype": "text/x-python",
   "name": "python",
   "nbconvert_exporter": "python",
   "pygments_lexer": "ipython3",
   "version": "3.11.4"
  }
 },
 "nbformat": 4,
 "nbformat_minor": 5
}
