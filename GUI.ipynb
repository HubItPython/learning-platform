{
 "cells": [
  {
   "cell_type": "code",
   "execution_count": 5,
   "id": "ed071c41",
   "metadata": {},
   "outputs": [],
   "source": [
    "import tkinter as tk\n",
    "import time\n",
    "r = tk.Tk()\n",
    "r.title('Counting Seconds')\n",
    "button = tk.Button(r, text='Stop', width=800, command=r.destroy,activebackground='Blue')\n",
    "# button = tk.Button(r, text='Stop', width=800,activebackground='Blue')\n",
    "# # button1=tk.Button(r, text ='Start', width=200,command=r.destroy,activebackground='Red')\n",
    "# button1=tk.Button(r, text ='Start', width=200,background='Red')\n",
    "# button1.pack()\n",
    "button.pack()\n",
    "r.mainloop()\n"
   ]
  },
  {
   "cell_type": "code",
   "execution_count": null,
   "id": "af555ed2",
   "metadata": {},
   "outputs": [],
   "source": []
  },
  {
   "cell_type": "code",
   "execution_count": 61,
   "id": "5bdc5a14",
   "metadata": {},
   "outputs": [],
   "source": [
    "from tkinter import *\n",
    "master = Tk()\n",
    "\n",
    "Label(master, text='First Name').grid(row=0)\n",
    "# Label(master, text='Middle Name').grid(row=1)\n",
    "# Label(master, text='Last Name').grid(row=2)\n",
    "# e1 = Entry(master)\n",
    "# e2 = Entry(master)\n",
    "# e3 = Entry(master)\n",
    "# e1.grid(row=0, column=1)\n",
    "# e2.grid(row=1, column=1)\n",
    "# e3.grid(row=2, column=1)\n",
    "mainloop()\n"
   ]
  },
  {
   "cell_type": "code",
   "execution_count": 24,
   "id": "da3552ad",
   "metadata": {},
   "outputs": [],
   "source": [
    "from tkinter import *\n",
    "\n",
    "root = Tk()\n",
    "frame = Frame(root)\n",
    "frame.pack()\n",
    "bottomframe = Frame(root)\n",
    "bottomframe.pack( side = RIGHT )\n",
    "redbutton = Button(frame, text = 'Red', fg ='red')\n",
    "redbutton.pack( side = LEFT)\n",
    "greenbutton = Button(bottomframe, text = 'Brown', fg='brown')\n",
    "greenbutton.pack( side = LEFT )\n",
    "bluebutton = Button(frame, text ='Blue', fg ='blue')\n",
    "bluebutton.pack( side = LEFT )\n",
    "blackbutton = Button(bottomframe, text ='Black', fg ='black')\n",
    "blackbutton.pack( side = BOTTOM)\n",
    "root.mainloop()\n"
   ]
  },
  {
   "cell_type": "code",
   "execution_count": 63,
   "id": "b1e60d1a",
   "metadata": {},
   "outputs": [],
   "source": [
    "import tkinter as tk\n",
    "\n",
    "root = tk.Tk()\n",
    "def on_button_click():\n",
    "    label.config(text=\"Button Clicked!\")\n",
    "\n",
    "\n",
    "root.title(\"Tkinter Buttons\")\n",
    "root.configure(background=\"pink\")\n",
    "\n",
    "label = tk.Label(root, text=\"Click the button\")\n",
    "label.pack()\n",
    "\n",
    "button = tk.Button(root, text=\"Click me!\", command=on_button_click)\n",
    "button.pack()\n",
    "\n",
    "root.mainloop()"
   ]
  },
  {
   "cell_type": "code",
   "execution_count": 6,
   "id": "21660080",
   "metadata": {},
   "outputs": [],
   "source": [
    "from tkinter import *\n",
    "\n",
    "r = Tk()\n",
    "Label(r,text=\"Input\")\n",
    "Entry(r).place(x=25,y=25)\n",
    "\n",
    "mainloop()\n"
   ]
  },
  {
   "cell_type": "code",
   "execution_count": null,
   "id": "97999dd7",
   "metadata": {},
   "outputs": [],
   "source": []
  },
  {
   "cell_type": "code",
   "execution_count": 41,
   "id": "18ed77a8",
   "metadata": {},
   "outputs": [],
   "source": []
  },
  {
   "cell_type": "code",
   "execution_count": 36,
   "id": "e6552979",
   "metadata": {},
   "outputs": [],
   "source": [
    "#Entry widgets and Layout\n",
    "import tkinter as tk\n",
    "\n",
    "def on_submit():\n",
    "    result_label.config(text=f\"You entered: {entry.get()}\")\n",
    "\n",
    "root = tk.Tk()\n",
    "root.title(\"Tkinter Entry Widget\")\n",
    "\n",
    "label = tk.Label(root, text=\"Enter someth0ing:\")\n",
    "label.pack()\n",
    "\n",
    "entry = tk.Entry(root)\n",
    "entry.pack()\n",
    "\n",
    "submit_button = tk.Button(root, text=\"Submit\", command=on_submit)\n",
    "submit_button.pack()\n",
    "\n",
    "result_label = tk.Label(root, text=\"\")\n",
    "result_label.pack()\n",
    "\n",
    "root.mainloop()"
   ]
  },
  {
   "cell_type": "code",
   "execution_count": 6,
   "id": "5b8a6e46",
   "metadata": {},
   "outputs": [],
   "source": [
    "import tkinter as tk\n",
    "\n",
    "def on_button_click():\n",
    "    label.config(text=\"Chanda\")\n",
    "def hub_it():\n",
    "    label.config(text=\"We provide python and Django Training\")\n",
    "root = tk.Tk()\n",
    "root.title(\"Tkinter Buttons\")\n",
    "label = tk.Label(root, text=\"Click the button\")\n",
    "label.pack()\n",
    "button = tk.Button(root, text=\"Click me!\", command=on_button_click)\n",
    "button.pack()\n",
    "button1=tk.Button(root,text=\"HUB IT\",command=hub_it)\n",
    "button1.pack()\n",
    "root.mainloop()"
   ]
  },
  {
   "cell_type": "code",
   "execution_count": 40,
   "id": "c7db74d6",
   "metadata": {},
   "outputs": [],
   "source": [
    "#Listbox and scrollbar\n",
    "import tkinter as tk\n",
    "\n",
    "def on_selection(event):\n",
    "    selected_item = listbox.get(listbox.curselection())\n",
    "    result_label.config(text=f\"Selected: {selected_item}\")\n",
    "\n",
    "root = tk.Tk()\n",
    "root.title(\"Tkinter Listbox\")\n",
    "\n",
    "listbox = tk.Listbox(root)\n",
    "listbox.pack()\n",
    "\n",
    "for item in [\"Apple\", \"Banana\", \"Cherry\", \"Date\", \"Fig\"]:\n",
    "    listbox.insert(tk.END, item)\n",
    "\n",
    "listbox.bind(\"<<ListboxSelect>>\", on_selection)\n",
    "\n",
    "result_label = tk.Label(root, text=\"\")\n",
    "result_label.pack()\n",
    "\n",
    "root.mainloop()"
   ]
  },
  {
   "cell_type": "code",
   "execution_count": 118,
   "id": "a075931e",
   "metadata": {},
   "outputs": [],
   "source": []
  },
  {
   "cell_type": "code",
   "execution_count": 64,
   "id": "3d86203b",
   "metadata": {},
   "outputs": [],
   "source": [
    "from tkinter import *\n",
    "master = Tk()\n",
    "\n",
    "Label(master, text='First Name').grid(row=0)\n",
    "# Label(master, text='Middle Name').grid(row=1)\n",
    "# Label(master, text='Last Name').grid(row=2)\n",
    "# e1 = Entry(master)\n",
    "# e2 = Entry(master)\n",
    "# e3 = Entry(master)\n",
    "# e1.grid(row=0, column=1)\n",
    "# e2.grid(row=1, column=1)\n",
    "# e3.grid(row=2, column=1)\n",
    "mainloop()\n"
   ]
  },
  {
   "cell_type": "code",
   "execution_count": 29,
   "id": "cfc38fce",
   "metadata": {},
   "outputs": [],
   "source": [
    "import tkinter\n",
    "master=tkinter.Tk()\n",
    "master.title(\"place() method\")\n",
    "master.geometry(\"450x1080\")\n",
    "button1=tkinter.Button(master, text=\"button1\")\n",
    "button1.place(x=25, y=100)\n",
    "button2=tkinter.Button(master, text=\"button2\")\n",
    "button2.place(x=100, y=25)\n",
    "button3=tkinter.Button(master, text=\"button3\")\n",
    "button3.place(x=175, y=100)\n",
    "master.mainloop()"
   ]
  },
  {
   "cell_type": "code",
   "execution_count": 31,
   "id": "17ad8474",
   "metadata": {},
   "outputs": [],
   "source": []
  },
  {
   "cell_type": "code",
   "execution_count": 28,
   "id": "1762e34c",
   "metadata": {},
   "outputs": [],
   "source": [
    "import tkinter as tk\n",
    "\n",
    "# Create a tkinter window\n",
    "root = tk.Tk()\n",
    "root.title(\"Simple Animation\")\n",
    "\n",
    "# Create a canvas widget\n",
    "canvas = tk.Canvas(root, width=400, height=400)\n",
    "canvas.pack()\n",
    "\n",
    "# Create a rectangle to animate\n",
    "rect = canvas.create_rectangle(50, 50, 100, 100, fill=\"blue\")\n",
    "\n",
    "# Function to move the rectangle\n",
    "def animate():\n",
    "    canvas.move(rect, 2, 0)  # Move the rectangle 2 pixels to the right\n",
    "    root.after(50, animate)  # Call animate function after 50 milliseconds\n",
    "\n",
    "# Start the animation\n",
    "animate()\n",
    "\n",
    "# Run the tkinter main loop\n",
    "root.mainloop()"
   ]
  },
  {
   "cell_type": "code",
   "execution_count": null,
   "id": "058a3598",
   "metadata": {},
   "outputs": [],
   "source": [
    "pip install pyinstaller"
   ]
  },
  {
   "cell_type": "code",
   "execution_count": 3,
   "id": "d384dcc0",
   "metadata": {},
   "outputs": [
    {
     "ename": "SyntaxError",
     "evalue": "invalid syntax (3738158935.py, line 1)",
     "output_type": "error",
     "traceback": [
      "\u001b[1;36m  Cell \u001b[1;32mIn[3], line 1\u001b[1;36m\u001b[0m\n\u001b[1;33m    jupyter nbconvert --execute --output-dir\u001b[0m\n\u001b[1;37m            ^\u001b[0m\n\u001b[1;31mSyntaxError\u001b[0m\u001b[1;31m:\u001b[0m invalid syntax\n"
     ]
    }
   ],
   "source": []
  },
  {
   "cell_type": "code",
   "execution_count": null,
   "id": "db284467",
   "metadata": {},
   "outputs": [],
   "source": []
  }
 ],
 "metadata": {
  "kernelspec": {
   "display_name": "Python 3 (ipykernel)",
   "language": "python",
   "name": "python3"
  },
  "language_info": {
   "codemirror_mode": {
    "name": "ipython",
    "version": 3
   },
   "file_extension": ".py",
   "mimetype": "text/x-python",
   "name": "python",
   "nbconvert_exporter": "python",
   "pygments_lexer": "ipython3",
   "version": "3.11.5"
  }
 },
 "nbformat": 4,
 "nbformat_minor": 5
}
